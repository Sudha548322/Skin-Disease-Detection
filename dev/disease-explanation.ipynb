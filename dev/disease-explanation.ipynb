{
 "cells": [
  {
   "cell_type": "code",
   "execution_count": 1,
   "metadata": {},
   "outputs": [],
   "source": [
    "import pandas as pd\n",
    "from sklearn.feature_extraction.text import TfidfVectorizer\n",
    "from sklearn.metrics.pairwise import cosine_similarity"
   ]
  },
  {
   "cell_type": "code",
   "execution_count": 2,
   "metadata": {},
   "outputs": [
    {
     "name": "stderr",
     "output_type": "stream",
     "text": [
      "[nltk_data] Downloading package stopwords to\n",
      "[nltk_data]     C:\\Users\\prais\\AppData\\Roaming\\nltk_data...\n",
      "[nltk_data]   Package stopwords is already up-to-date!\n"
     ]
    },
    {
     "data": {
      "text/plain": [
       "True"
      ]
     },
     "execution_count": 2,
     "metadata": {},
     "output_type": "execute_result"
    }
   ],
   "source": [
    "import nltk\n",
    "from nltk.corpus import stopwords\n",
    "import string\n",
    "\n",
    "nltk.download('stopwords')"
   ]
  },
  {
   "cell_type": "code",
   "execution_count": 3,
   "metadata": {},
   "outputs": [],
   "source": [
    "# Load your dataset\n",
    "df = pd.read_csv('../data-collection/dataset/disease_details.csv')"
   ]
  },
  {
   "cell_type": "code",
   "execution_count": 4,
   "metadata": {},
   "outputs": [
    {
     "data": {
      "text/html": [
       "<div>\n",
       "<style scoped>\n",
       "    .dataframe tbody tr th:only-of-type {\n",
       "        vertical-align: middle;\n",
       "    }\n",
       "\n",
       "    .dataframe tbody tr th {\n",
       "        vertical-align: top;\n",
       "    }\n",
       "\n",
       "    .dataframe thead th {\n",
       "        text-align: right;\n",
       "    }\n",
       "</style>\n",
       "<table border=\"1\" class=\"dataframe\">\n",
       "  <thead>\n",
       "    <tr style=\"text-align: right;\">\n",
       "      <th></th>\n",
       "      <th>Disease</th>\n",
       "      <th>Description</th>\n",
       "      <th>Diagnosis</th>\n",
       "      <th>Differential Diagnosis</th>\n",
       "      <th>Treatment</th>\n",
       "      <th>Demographics</th>\n",
       "      <th>Gender</th>\n",
       "      <th>Age Group</th>\n",
       "      <th>Additional note</th>\n",
       "      <th>Cause</th>\n",
       "      <th>Symptoms</th>\n",
       "      <th>Complications</th>\n",
       "      <th>Outcomes</th>\n",
       "      <th>Preventive Measure</th>\n",
       "    </tr>\n",
       "  </thead>\n",
       "  <tbody>\n",
       "    <tr>\n",
       "      <th>0</th>\n",
       "      <td>acanthosis-nigricans</td>\n",
       "      <td>Acanthosis nigricans is a skin condition chara...</td>\n",
       "      <td>The diagnosis is made clinically,including a t...</td>\n",
       "      <td>Confluent and reticulated papillomatosis: occu...</td>\n",
       "      <td>The mainstay treatment is to manage the underl...</td>\n",
       "      <td>Acanthosis nigricans affects &lt; 1% of Caucasian...</td>\n",
       "      <td>It affects both males and females</td>\n",
       "      <td>Affects all ages,with people &lt; 40 years old ty...</td>\n",
       "      <td>Those diagnosed with acanthosis nigricans were...</td>\n",
       "      <td>The exact cause is still unclear,however it is...</td>\n",
       "      <td>Symmetric,thickened,brown,velvety patches and ...</td>\n",
       "      <td>Cosmetic disfigurement. Psychological distress...</td>\n",
       "      <td>Outcomes depend on the cause. If the underlyin...</td>\n",
       "      <td>NaN</td>\n",
       "    </tr>\n",
       "  </tbody>\n",
       "</table>\n",
       "</div>"
      ],
      "text/plain": [
       "                Disease                                        Description  \\\n",
       "0  acanthosis-nigricans  Acanthosis nigricans is a skin condition chara...   \n",
       "\n",
       "                                           Diagnosis  \\\n",
       "0  The diagnosis is made clinically,including a t...   \n",
       "\n",
       "                              Differential Diagnosis  \\\n",
       "0  Confluent and reticulated papillomatosis: occu...   \n",
       "\n",
       "                                           Treatment  \\\n",
       "0  The mainstay treatment is to manage the underl...   \n",
       "\n",
       "                                        Demographics  \\\n",
       "0  Acanthosis nigricans affects < 1% of Caucasian...   \n",
       "\n",
       "                              Gender  \\\n",
       "0  It affects both males and females   \n",
       "\n",
       "                                           Age Group  \\\n",
       "0  Affects all ages,with people < 40 years old ty...   \n",
       "\n",
       "                                     Additional note  \\\n",
       "0  Those diagnosed with acanthosis nigricans were...   \n",
       "\n",
       "                                               Cause  \\\n",
       "0  The exact cause is still unclear,however it is...   \n",
       "\n",
       "                                            Symptoms  \\\n",
       "0  Symmetric,thickened,brown,velvety patches and ...   \n",
       "\n",
       "                                       Complications  \\\n",
       "0  Cosmetic disfigurement. Psychological distress...   \n",
       "\n",
       "                                            Outcomes Preventive Measure  \n",
       "0  Outcomes depend on the cause. If the underlyin...                NaN  "
      ]
     },
     "execution_count": 4,
     "metadata": {},
     "output_type": "execute_result"
    }
   ],
   "source": [
    "df.head(1)"
   ]
  },
  {
   "cell_type": "code",
   "execution_count": 5,
   "metadata": {},
   "outputs": [],
   "source": [
    "# Replace 'NaN' with \"None\"\n",
    "df.fillna(\"None\", inplace=True)"
   ]
  },
  {
   "cell_type": "code",
   "execution_count": 6,
   "metadata": {},
   "outputs": [],
   "source": [
    "# Preprocess text (example, replace with your preprocessing logic)\n",
    "def preprocess_text(text):\n",
    "    # Convert to lowercase\n",
    "    text = text.lower()\n",
    "    \n",
    "    # Remove punctuation\n",
    "    text = text.translate(str.maketrans('', '', string.punctuation))\n",
    "    \n",
    "    # Tokenization (split the text into words)\n",
    "    tokens = text.split()\n",
    "    \n",
    "    # Remove stopwords\n",
    "    stop_words = set(stopwords.words('english'))\n",
    "    tokens = [word for word in tokens if word not in stop_words]\n",
    "    \n",
    "    # Join tokens back into a single string\n",
    "    text = ' '.join(tokens)\n",
    "    \n",
    "    return text"
   ]
  },
  {
   "cell_type": "code",
   "execution_count": 7,
   "metadata": {},
   "outputs": [],
   "source": [
    "# Define the function to process the 'Sex' column\n",
    "def preprocess_gender(text):\n",
    "    text = text.lower()\n",
    "    \n",
    "    if 'male' in text and 'female' in text:\n",
    "        return 'male and female'\n",
    "    elif 'male' in text:\n",
    "        return 'male'\n",
    "    elif 'female' in text:\n",
    "        return 'female'\n",
    "    else:\n",
    "        return text"
   ]
  },
  {
   "cell_type": "code",
   "execution_count": 8,
   "metadata": {},
   "outputs": [],
   "source": [
    "# Apply preprocessing to relevant columns\n",
    "columns_to_preprocess = ['Description', 'Diagnosis', 'Differential Diagnosis', 'Treatment', \n",
    "                         'Additional note', 'Cause', 'Gender', 'Symptoms', 'Complications']"
   ]
  },
  {
   "cell_type": "code",
   "execution_count": 9,
   "metadata": {},
   "outputs": [],
   "source": [
    "updated_df = df.copy()\n",
    "\n",
    "for col in columns_to_preprocess:\n",
    "    if col == 'Gender':\n",
    "        updated_df[col] = df[col].apply(preprocess_gender)\n",
    "    else:\n",
    "        updated_df[col] = df[col].apply(preprocess_text)"
   ]
  },
  {
   "cell_type": "code",
   "execution_count": 10,
   "metadata": {},
   "outputs": [],
   "source": [
    "# TF-IDF Vectorization\n",
    "tfidf_vectorizer = TfidfVectorizer(stop_words='english')\n",
    "tfidf_matrix = tfidf_vectorizer.fit_transform(updated_df['Description'])"
   ]
  },
  {
   "cell_type": "code",
   "execution_count": 11,
   "metadata": {},
   "outputs": [],
   "source": [
    "def retrieve_information(query, tfidf_matrix, tfidf_vectorizer, df):\n",
    "    query_vec = tfidf_vectorizer.transform([query])\n",
    "    cosine_similarities = cosine_similarity(query_vec, tfidf_matrix).flatten()\n",
    "    related_docs_indices = cosine_similarities.argsort()[::-1]\n",
    "    \n",
    "    top_results = []\n",
    "    for i, idx in enumerate(related_docs_indices):\n",
    "        disease = df.iloc[idx]['Disease']\n",
    "        description = df.iloc[idx]['Description']\n",
    "        diagnosis = df.iloc[idx]['Diagnosis']\n",
    "        differential_diagnosis = df.iloc[idx]['Differential Diagnosis']\n",
    "        treatment = df.iloc[idx]['Treatment']\n",
    "        additional_note = df.iloc[idx]['Additional note']\n",
    "        cause = df.iloc[idx]['Cause']\n",
    "        symptoms = df.iloc[idx]['Symptoms']\n",
    "        complications = df.iloc[idx]['Complications']\n",
    "        similarity = cosine_similarities[idx]\n",
    "\n",
    "        if(similarity <= 0.0):\n",
    "            continue\n",
    "\n",
    "        result = f\"Disease: {disease}\\n\\n\" \\\n",
    "                 f\"Similarity: {similarity}\\n\\n\"\\\n",
    "                 f\"Description: {description}\\n\\n\" \\\n",
    "                 f\"Treatment: {treatment}\\n\\n\" \\\n",
    "                 f\"Additional Note: {additional_note}\\n\\n\" \\\n",
    "                 f\"Cause: {cause}\\n\\n\" \\\n",
    "                 f\"Symptoms: {symptoms}\\n\\n\" \\\n",
    "                 f\"Complications: {complications}\\n\\n\" \\\n",
    "        \n",
    "        top_results.append(result)\n",
    "        \n",
    "        if i >= 4:  # Return top 5 results\n",
    "            break\n",
    "    \n",
    "    return top_results"
   ]
  },
  {
   "cell_type": "code",
   "execution_count": 12,
   "metadata": {},
   "outputs": [
    {
     "name": "stdout",
     "output_type": "stream",
     "text": [
      "Disease: acne\n",
      "\n",
      "Similarity: 0.25\n",
      "\n",
      "Description: Acne is a common chronic disorder affecting the hair follicle and sebaceous gland,in which there is expansion and blockage of the follicle and inflammation. There are several variants.\n",
      "\n",
      "Treatment: Mild acne: Topical anti-acne agents,such as benzoyl peroxide,azelaic acid,and tretinoin or adapalene gel. New bioactive proteins may also prove successful. Low-dose combined oral contraceptive. Antiseptic or keratolytic washes containing salicylic acid. Light/laser therapy. Moderate acne: As for mild acne plus a tetracycline such as doxycycline 50–200 mg daily for 6 months or so. Erythromycin or trimethoprim if doxycycline intolerant. Antiandrogen therapy with long-term cyproterone acetate + ethinylestradiol or spironolactone may be considered in women not responding to low-dose combined oral contraceptive,particularly for women with polycystic ovaries. Isotretinoin is often used if acne is persistent or treatment-resistant. Severe acne: Referral to a dermatologist. If fever,arthralgia,bone pain,ulcerated or extensive skin lesions,blood count should be arranged and referral is urgent. Oral antibiotics are often used in higher doses than normal. Oral isotretinoin is usually recommended in suitable patients\n",
      "\n",
      "Additional Note: None\n",
      "\n",
      "Cause: Acne is due to a combination of factors. The exact mechanisms are not fully understood. Familial tendency,Endogenous and exogenous androgenic hormones,Acne bacterial,Innate immune activation with inflammatory mediators,Distension and occlusion of the hair follicles. Flares of acne can be provoked by: Polycystic ovarian disease. Drugs: steroids,hormones,anticonvulsants,epidermal growth factor receptor inhibitors and others. Application of occlusive cosmetics. High environmental humidity. Diet high in dairy products and high glycaemic foods.\n",
      "\n",
      "Symptoms: Acne is often confined to the face but it may involve the neck,chest,and back. It is characterised by: Open and closed uninflamed comedones (blackheads and whiteheads). Inflamed papules and pustules. In severe acne,nodules and pseudocysts. Post-inflammatory erythematous or pigmented macules and scars. Adverse social and psychological effects. Severity is classified as mild,moderate,or severe.Mild acne: total lesion count <30. Moderate acne: total lesion count 30–125. Severe acne: total lesion count >125\n",
      "\n",
      "Complications: None\n",
      "\n",
      "\n",
      "-----\n"
     ]
    }
   ],
   "source": [
    "query = \"How can I cure my acne?\"\n",
    "results = retrieve_information(query, tfidf_matrix, tfidf_vectorizer, df)\n",
    "\n",
    "if len(results) == 0:\n",
    "    print(\"No information found.\")\n",
    "else:\n",
    "    for result in results:\n",
    "        print(result)\n",
    "        print(\"-----\")"
   ]
  }
 ],
 "metadata": {
  "kernelspec": {
   "display_name": "tf-gpu",
   "language": "python",
   "name": "python3"
  },
  "language_info": {
   "codemirror_mode": {
    "name": "ipython",
    "version": 3
   },
   "file_extension": ".py",
   "mimetype": "text/x-python",
   "name": "python",
   "nbconvert_exporter": "python",
   "pygments_lexer": "ipython3",
   "version": "3.9.19"
  }
 },
 "nbformat": 4,
 "nbformat_minor": 2
}
