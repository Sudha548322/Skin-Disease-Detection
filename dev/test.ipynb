{
 "cells": [
  {
   "cell_type": "code",
   "execution_count": 16,
   "metadata": {},
   "outputs": [],
   "source": [
    "import numpy as np\n",
    "from tensorflow.keras.preprocessing import image\n",
    "from tensorflow.keras.models import load_model\n",
    "from tensorflow.keras.applications.inception_v3 import preprocess_input\n",
    "import matplotlib.pyplot as plt"
   ]
  },
  {
   "cell_type": "code",
   "execution_count": 17,
   "metadata": {},
   "outputs": [],
   "source": [
    "# List of all diseases\n",
    "class_names = ['acanthosis-nigricans', 'achenbach-syndrome', 'acne', 'acral-lentiginous-melanoma', 'allergic-contact-dermatitis', 'alopecia-areata', 'amelanotic-melanoma', 'angioedema', 'angular-cheilitis', 'annular-lichenoid-dermatitis-of-youth', 'anogenital-warts', 'aquagenic-wrinkling-of-the-palms', 'atopic-dermatitis', 'atopic-hand-dermatitis', 'atypical-fibroxanthoma', 'atypical-mycobacterial-infection', 'autonomic-denervation-dermatitis', 'basal-cell-carcinoma', 'becker-naevus', 'bed-bugs', 'behcet-disease', 'calcinosis-cutis', 'catscratch-disease', 'cholinergic-urticaria', 'chronic-actinic-dermatitis', 'chronic-plaque-psoriasis', 'chronic-superficial-scaly-dermatitis', 'congenital-malalignment-of-the-great-toenails', 'congenital-melanocytic-naevi', 'contact-urticaria', 'covid-19', 'cutaneous-adverse-effects-of-anticonvulsant-drugs', 'cutaneous-squamous-cell-carcinoma', 'dengue', 'dermatitis-herpetiformis', 'discoid-eczema', 'discoid-lupus-erythematosus', 'drug-induced-photosensitivity', 'drug-induced-pigmentation', 'dyshidrotic-eczema', 'elastosis-perforans-serpiginosa', 'elephantiasis-nostras-verrucosa', 'erosive-lichen-planus', 'erosive-pustular-dermatosis', 'erythroderma', 'fixed-drug-eruption', 'folliculitis-barbae', 'fournier-gangrene', 'fungal-nail-infections', 'gardner-syndrome', 'generalised-eruptive-keratoacanthomas', 'generalised-pustular-psoriasis', 'granulomatous-cheilitis', 'habit-tic-deformity', 'hand-foot-and-mouth-disease', 'hereditary-coproporphyria', 'herpetic-whitlow', 'ichthyosis', 'idiopathic-facial-aseptic-granuloma', 'impetigo', 'kaposi-sarcoma', 'keloid-and-hypertrophic-scar', 'laugier-hunziker-syndrome', 'lentigo-maligna-and-lentigo-maligna-melanoma', 'lice', 'lichen-planus', 'lichen-simplex', 'linear-iga-bullous-disease', 'lipodystrophy', 'lipoma-and-liposarcoma', 'lobomycosis', 'maculopapular-cutaneous-mastocytosis', 'male-genital-dysaesthesia', 'marine-wounds-and-stings', 'melanocytic-naevus', 'melanoma-in-situ', 'molluscum-contagiosum', 'morbihan-disease', 'mpox', 'neutrophilic-sebaceous-adenitis', 'nodular-melanoma', 'nodular-prurigo', 'obesity-associated-lymphoedematous-mucinosis', 'oral-lichen-planus', 'otitis-externa', 'palmar-erythema', 'panton-valentine-leukocidin-staphylococcus-aureus', 'paradoxical-psoriasis', 'paraneoplastic-pemphigus', 'pemphigus-vulgaris', 'periorificial-dermatitis', 'peristomal-intestinal-metaplasia', 'phytophotodermatitis', 'pitted-keratolysis', 'pityriasis-alba', 'pityriasis-amiantacea', 'pityriasis-lichenoides', 'pityriasis-rosea', 'pityriasis-versicolor', 'plasma-cell-mucositis', 'polymorphic-light-eruption', 'pressure-ulcer', 'pretibial-myxoedema', 'pseudoxanthoma-elasticum', 'puva-photochemotherapy', 'pyoderma-gangrenosum', 'relapsing-polychondritis', 'rosacea', 'rubinstein-taybi-syndrome', 'sarcoidosis', 'scabies', 'scalp-psoriasis', 'sebaceous-naevus', 'seborrhoeic-dermatitis', 'segmental-pigmentation-disorder', 'shrimp-nail', 'skin-grafting', 'solar-elastosis', 'staphylococcal-scalded-skin-syndrome', 'steroid-rosacea', 'superficial-spreading-melanoma', 'systemic-amyloidosis', 'tinea-capitis', 'trachyonychia', 'trichoepithelioma', 'vitiligo', 'vulval-cancer', 'white-nail']"
   ]
  },
  {
   "cell_type": "code",
   "execution_count": 18,
   "metadata": {},
   "outputs": [],
   "source": [
    "# Load the trained model\n",
    "model = load_model('best_model.h5')"
   ]
  },
  {
   "cell_type": "code",
   "execution_count": 30,
   "metadata": {},
   "outputs": [],
   "source": [
    "# Function to load and preprocess the image\n",
    "def load_and_preprocess_image(img_path, target_size=(224, 224)):\n",
    "    img = image.load_img(img_path, target_size=target_size)\n",
    "    img_array = image.img_to_array(img)\n",
    "    img_array = np.expand_dims(img_array, axis=0)  # Add batch dimension\n",
    "    img_array = preprocess_input(img_array)\n",
    "    return img_array"
   ]
  },
  {
   "cell_type": "code",
   "execution_count": 31,
   "metadata": {},
   "outputs": [],
   "source": [
    "# Path to the input image\n",
    "path = r'C:\\Users\\prais\\Downloads\\test.jpeg'\n",
    "\n",
    "# Load and preprocess the image\n",
    "img = load_and_preprocess_image(path)"
   ]
  },
  {
   "cell_type": "code",
   "execution_count": 32,
   "metadata": {},
   "outputs": [
    {
     "name": "stdout",
     "output_type": "stream",
     "text": [
      "1/1 [==============================] - 0s 263ms/step\n"
     ]
    }
   ],
   "source": [
    "# Predict the class probabilities\n",
    "predictions = model.predict(img)"
   ]
  },
  {
   "cell_type": "code",
   "execution_count": 33,
   "metadata": {},
   "outputs": [
    {
     "name": "stdout",
     "output_type": "stream",
     "text": [
      "Class: amelanotic-melanoma Prob: 0.9787509441375732\n"
     ]
    }
   ],
   "source": [
    "# Display the probabilities\n",
    "max_val = 0\n",
    "max_idx = 0\n",
    "\n",
    "for idx, prob in enumerate(predictions[0]):\n",
    "    if prob > max_val:\n",
    "        max_idx = idx\n",
    "        max_val = prob\n",
    "\n",
    "print(f\"Class: {class_names[max_idx]} Prob: {max_val}\")"
   ]
  }
 ],
 "metadata": {
  "kernelspec": {
   "display_name": "tensorflow_gpu",
   "language": "python",
   "name": "python3"
  },
  "language_info": {
   "codemirror_mode": {
    "name": "ipython",
    "version": 3
   },
   "file_extension": ".py",
   "mimetype": "text/x-python",
   "name": "python",
   "nbconvert_exporter": "python",
   "pygments_lexer": "ipython3",
   "version": "3.9.19"
  }
 },
 "nbformat": 4,
 "nbformat_minor": 2
}
